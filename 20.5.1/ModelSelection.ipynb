{
 "cells": [
  {
   "cell_type": "markdown",
   "id": "149b57ba",
   "metadata": {},
   "source": [
    "# Defining the best model for ML and DL"
   ]
  },
  {
   "cell_type": "markdown",
   "id": "7e2e439e",
   "metadata": {},
   "source": [
    "## Machine Learning Approach"
   ]
  },
  {
   "cell_type": "markdown",
   "id": "e39ef183",
   "metadata": {},
   "source": [
    "Import necessary libraries."
   ]
  },
  {
   "cell_type": "code",
   "execution_count": 1,
   "id": "122f16e0",
   "metadata": {},
   "outputs": [],
   "source": [
    "from xgboost import XGBClassifier\n",
    "import pandas as pd\n",
    "import numpy as np\n",
    "# read data\n",
    "from sklearn.datasets import load_iris\n",
    "from sklearn.model_selection import train_test_split\n",
    "from sklearn.metrics import f1_score\n",
    "from sklearn.metrics import ConfusionMatrixDisplay\n",
    "import matplotlib.pyplot as plt\n",
    "import sklearn.datasets\n",
    "import sklearn.metrics\n",
    "from imblearn.over_sampling import RandomOverSampler\n",
    "from sklearn import preprocessing\n",
    "from sklearn.metrics import precision_recall_fscore_support as score\n"
   ]
  },
  {
   "cell_type": "markdown",
   "id": "5937e1e1",
   "metadata": {},
   "source": [
    "Load the training dataset that was created in an earlier script."
   ]
  },
  {
   "cell_type": "code",
   "execution_count": 2,
   "id": "58dc2e3d",
   "metadata": {},
   "outputs": [],
   "source": [
    "ExtPath = r'D:/Python/ucsdmlbc/CommonVoice/archive/'\n",
    "path = 'AllTrainwithSTD.csv'\n",
    "df = pd.read_csv(ExtPath + path)\n",
    "df.drop('Unnamed: 0', inplace = True , axis = 1)"
   ]
  },
  {
   "cell_type": "code",
   "execution_count": 3,
   "id": "45b139cb",
   "metadata": {},
   "outputs": [
    {
     "data": {
      "text/html": [
       "<div>\n",
       "<style scoped>\n",
       "    .dataframe tbody tr th:only-of-type {\n",
       "        vertical-align: middle;\n",
       "    }\n",
       "\n",
       "    .dataframe tbody tr th {\n",
       "        vertical-align: top;\n",
       "    }\n",
       "\n",
       "    .dataframe thead th {\n",
       "        text-align: right;\n",
       "    }\n",
       "</style>\n",
       "<table border=\"1\" class=\"dataframe\">\n",
       "  <thead>\n",
       "    <tr style=\"text-align: right;\">\n",
       "      <th></th>\n",
       "      <th>label</th>\n",
       "      <th>spectral_centroid</th>\n",
       "      <th>spectral_bandwidth</th>\n",
       "      <th>spectral_rolloff</th>\n",
       "      <th>mfcc1</th>\n",
       "      <th>Std1</th>\n",
       "      <th>mfcc2</th>\n",
       "      <th>Std2</th>\n",
       "      <th>mfcc3</th>\n",
       "      <th>Std3</th>\n",
       "      <th>...</th>\n",
       "      <th>mfcc8</th>\n",
       "      <th>Std8</th>\n",
       "      <th>mfcc9</th>\n",
       "      <th>Std9</th>\n",
       "      <th>mfcc10</th>\n",
       "      <th>Std10</th>\n",
       "      <th>mfcc11</th>\n",
       "      <th>Std11</th>\n",
       "      <th>mfcc12</th>\n",
       "      <th>Std12</th>\n",
       "    </tr>\n",
       "  </thead>\n",
       "  <tbody>\n",
       "    <tr>\n",
       "      <th>0</th>\n",
       "      <td>us</td>\n",
       "      <td>2679.939301</td>\n",
       "      <td>3347.669230</td>\n",
       "      <td>5745.486746</td>\n",
       "      <td>979.1706</td>\n",
       "      <td>245.34569</td>\n",
       "      <td>376.00223</td>\n",
       "      <td>203.67845</td>\n",
       "      <td>21.370316</td>\n",
       "      <td>165.47630</td>\n",
       "      <td>...</td>\n",
       "      <td>6.797319</td>\n",
       "      <td>12.152376</td>\n",
       "      <td>5.969101</td>\n",
       "      <td>5.031898</td>\n",
       "      <td>-2.055150</td>\n",
       "      <td>11.456238</td>\n",
       "      <td>-9.238556</td>\n",
       "      <td>23.982313</td>\n",
       "      <td>-36.150772</td>\n",
       "      <td>29.230515</td>\n",
       "    </tr>\n",
       "    <tr>\n",
       "      <th>1</th>\n",
       "      <td>us</td>\n",
       "      <td>2859.452074</td>\n",
       "      <td>2576.680219</td>\n",
       "      <td>4912.384969</td>\n",
       "      <td>1362.6725</td>\n",
       "      <td>214.69751</td>\n",
       "      <td>426.51360</td>\n",
       "      <td>262.22190</td>\n",
       "      <td>-55.915200</td>\n",
       "      <td>131.02698</td>\n",
       "      <td>...</td>\n",
       "      <td>15.505822</td>\n",
       "      <td>20.660242</td>\n",
       "      <td>7.190213</td>\n",
       "      <td>6.081736</td>\n",
       "      <td>-18.646480</td>\n",
       "      <td>13.818316</td>\n",
       "      <td>-13.789719</td>\n",
       "      <td>28.595057</td>\n",
       "      <td>-37.100063</td>\n",
       "      <td>41.883660</td>\n",
       "    </tr>\n",
       "    <tr>\n",
       "      <th>2</th>\n",
       "      <td>us</td>\n",
       "      <td>1976.264151</td>\n",
       "      <td>1830.634203</td>\n",
       "      <td>3344.655227</td>\n",
       "      <td>1490.3817</td>\n",
       "      <td>255.12636</td>\n",
       "      <td>498.77054</td>\n",
       "      <td>206.11307</td>\n",
       "      <td>-168.789950</td>\n",
       "      <td>168.83821</td>\n",
       "      <td>...</td>\n",
       "      <td>16.935290</td>\n",
       "      <td>17.247293</td>\n",
       "      <td>8.798961</td>\n",
       "      <td>7.622944</td>\n",
       "      <td>-3.454667</td>\n",
       "      <td>12.679749</td>\n",
       "      <td>-8.657740</td>\n",
       "      <td>25.217714</td>\n",
       "      <td>-46.766360</td>\n",
       "      <td>39.332394</td>\n",
       "    </tr>\n",
       "    <tr>\n",
       "      <th>3</th>\n",
       "      <td>england</td>\n",
       "      <td>2333.763596</td>\n",
       "      <td>2533.282996</td>\n",
       "      <td>4398.824257</td>\n",
       "      <td>1375.0426</td>\n",
       "      <td>237.40717</td>\n",
       "      <td>400.03485</td>\n",
       "      <td>255.08675</td>\n",
       "      <td>66.706030</td>\n",
       "      <td>111.51125</td>\n",
       "      <td>...</td>\n",
       "      <td>14.405625</td>\n",
       "      <td>20.290690</td>\n",
       "      <td>3.268910</td>\n",
       "      <td>6.785762</td>\n",
       "      <td>-6.033383</td>\n",
       "      <td>10.732883</td>\n",
       "      <td>-17.848553</td>\n",
       "      <td>31.696130</td>\n",
       "      <td>-18.436834</td>\n",
       "      <td>33.804314</td>\n",
       "    </tr>\n",
       "    <tr>\n",
       "      <th>4</th>\n",
       "      <td>australia</td>\n",
       "      <td>2351.920593</td>\n",
       "      <td>2974.752407</td>\n",
       "      <td>4743.105301</td>\n",
       "      <td>1674.0428</td>\n",
       "      <td>199.60262</td>\n",
       "      <td>530.80383</td>\n",
       "      <td>188.77255</td>\n",
       "      <td>25.876215</td>\n",
       "      <td>102.23092</td>\n",
       "      <td>...</td>\n",
       "      <td>-14.115968</td>\n",
       "      <td>20.496675</td>\n",
       "      <td>-3.055072</td>\n",
       "      <td>6.256124</td>\n",
       "      <td>6.943354</td>\n",
       "      <td>10.071516</td>\n",
       "      <td>2.013073</td>\n",
       "      <td>18.610756</td>\n",
       "      <td>0.343027</td>\n",
       "      <td>34.820515</td>\n",
       "    </tr>\n",
       "  </tbody>\n",
       "</table>\n",
       "<p>5 rows × 28 columns</p>\n",
       "</div>"
      ],
      "text/plain": [
       "       label  spectral_centroid  spectral_bandwidth  spectral_rolloff  \\\n",
       "0         us        2679.939301         3347.669230       5745.486746   \n",
       "1         us        2859.452074         2576.680219       4912.384969   \n",
       "2         us        1976.264151         1830.634203       3344.655227   \n",
       "3    england        2333.763596         2533.282996       4398.824257   \n",
       "4  australia        2351.920593         2974.752407       4743.105301   \n",
       "\n",
       "       mfcc1       Std1      mfcc2       Std2       mfcc3       Std3  ...  \\\n",
       "0   979.1706  245.34569  376.00223  203.67845   21.370316  165.47630  ...   \n",
       "1  1362.6725  214.69751  426.51360  262.22190  -55.915200  131.02698  ...   \n",
       "2  1490.3817  255.12636  498.77054  206.11307 -168.789950  168.83821  ...   \n",
       "3  1375.0426  237.40717  400.03485  255.08675   66.706030  111.51125  ...   \n",
       "4  1674.0428  199.60262  530.80383  188.77255   25.876215  102.23092  ...   \n",
       "\n",
       "       mfcc8       Std8     mfcc9      Std9     mfcc10      Std10     mfcc11  \\\n",
       "0   6.797319  12.152376  5.969101  5.031898  -2.055150  11.456238  -9.238556   \n",
       "1  15.505822  20.660242  7.190213  6.081736 -18.646480  13.818316 -13.789719   \n",
       "2  16.935290  17.247293  8.798961  7.622944  -3.454667  12.679749  -8.657740   \n",
       "3  14.405625  20.290690  3.268910  6.785762  -6.033383  10.732883 -17.848553   \n",
       "4 -14.115968  20.496675 -3.055072  6.256124   6.943354  10.071516   2.013073   \n",
       "\n",
       "       Std11     mfcc12      Std12  \n",
       "0  23.982313 -36.150772  29.230515  \n",
       "1  28.595057 -37.100063  41.883660  \n",
       "2  25.217714 -46.766360  39.332394  \n",
       "3  31.696130 -18.436834  33.804314  \n",
       "4  18.610756   0.343027  34.820515  \n",
       "\n",
       "[5 rows x 28 columns]"
      ]
     },
     "execution_count": 3,
     "metadata": {},
     "output_type": "execute_result"
    }
   ],
   "source": [
    "df.head()"
   ]
  },
  {
   "cell_type": "markdown",
   "id": "7ca438f4",
   "metadata": {},
   "source": [
    "### The Dataset\n",
    "The dataset contains information extracted from raw audio files in the CommonVoice dataset found on Kaggle. The features extracted using Librosa are common audio features for ML/DL tasks. The features have been further reduced to a simple average and standard deviation. This took the dataset down from about 1000 features to a much more manageable 27."
   ]
  },
  {
   "cell_type": "code",
   "execution_count": 4,
   "id": "7425945e",
   "metadata": {},
   "outputs": [],
   "source": [
    "le = preprocessing.LabelEncoder()\n",
    "df['label'] = le.fit_transform(df.label)"
   ]
  },
  {
   "cell_type": "markdown",
   "id": "21087967",
   "metadata": {},
   "source": [
    "This assigns each of the 6 possible classes an integer value which can then be transformed back into its string counterpart after training of the model and the inference."
   ]
  },
  {
   "cell_type": "code",
   "execution_count": 5,
   "id": "7d0294d5",
   "metadata": {},
   "outputs": [],
   "source": [
    "y_df = df['label'].values\n",
    "x_df = df.drop('label',axis =1).values\n",
    "setImbalance = max(df.label.value_counts())\n",
    "sampling_strategy = {0: setImbalance, 1: setImbalance, 2: setImbalance,3: setImbalance,4: setImbalance,5: setImbalance}\n",
    "ros = RandomOverSampler(sampling_strategy=sampling_strategy)\n",
    "x_df, y_df = ros.fit_resample(x_df, y_df)\n",
    "\n",
    "X_train, X_test, y_train, y_test = train_test_split(x_df, y_df, test_size=1500, random_state=42)"
   ]
  },
  {
   "cell_type": "markdown",
   "id": "24c6c19f",
   "metadata": {},
   "source": [
    "Here we wll resample the data due to the large imbalance of US samples. We will sample with replacement of smaller classes until they match the number of samples in the larger set. This is an attempt to take away the \"free lunch\" that will allow the model to achieve a high accuracy without actually learning."
   ]
  },
  {
   "cell_type": "markdown",
   "id": "1966dd23",
   "metadata": {},
   "source": [
    "## Creating the Model"
   ]
  },
  {
   "cell_type": "code",
   "execution_count": 6,
   "id": "b5dc89df",
   "metadata": {},
   "outputs": [],
   "source": [
    "# create model instance\n",
    "bst = XGBClassifier(tree_method='gpu_hist',\n",
    "                    gpu_id=0)"
   ]
  },
  {
   "cell_type": "markdown",
   "id": "305e8b4f",
   "metadata": {},
   "source": [
    "Instantiate a XGBoost model with an extremely high eta."
   ]
  },
  {
   "cell_type": "code",
   "execution_count": 7,
   "id": "b050ff09",
   "metadata": {},
   "outputs": [],
   "source": [
    "# fit model\n",
    "bst.fit(X_train, y_train)\n",
    "# make predictions\n",
    "preds = bst.predict(X_test)"
   ]
  },
  {
   "cell_type": "markdown",
   "id": "b8274a08",
   "metadata": {},
   "source": [
    "Fit on our train split. Predict on our test split."
   ]
  },
  {
   "cell_type": "code",
   "execution_count": 8,
   "id": "046b7104",
   "metadata": {},
   "outputs": [
    {
     "name": "stdout",
     "output_type": "stream",
     "text": [
      "Accuracy score 0.8673333333333333\n"
     ]
    }
   ],
   "source": [
    "print(\"Accuracy score\", sklearn.metrics.accuracy_score(y_test, preds))"
   ]
  },
  {
   "cell_type": "markdown",
   "id": "cb6d43d4",
   "metadata": {},
   "source": [
    "This is an extremely good accuracy for a dataset that was not intitially collected for this purpose."
   ]
  },
  {
   "cell_type": "code",
   "execution_count": 9,
   "id": "5376154a",
   "metadata": {},
   "outputs": [
    {
     "name": "stdout",
     "output_type": "stream",
     "text": [
      "[('australia', 0.9461077844311376), ('canada', 0.9083665338645418), ('england', 0.816849816849817), ('indian', 0.9557522123893805), ('other', 0.88), ('us', 0.690423162583519)]\n"
     ]
    }
   ],
   "source": [
    "print(list(zip(le.classes_,f1_score( y_test, preds,average = None))))"
   ]
  },
  {
   "cell_type": "markdown",
   "id": "6d6c0a54",
   "metadata": {},
   "source": [
    "The F1 scores seem to affirm that our model is a great fit for out data."
   ]
  },
  {
   "cell_type": "code",
   "execution_count": 10,
   "id": "377aea74",
   "metadata": {},
   "outputs": [
    {
     "data": {
      "image/png": "[encoded data removed]",
      "text/plain": [
       "<Figure size 640x480 with 2 Axes>"
      ]
     },
     "metadata": {},
     "output_type": "display_data"
    }
   ],
   "source": [
    "ConfusionMatrixDisplay.from_estimator(bst,X_test, y_test) \n",
    "plt.yticks(list(range(6)), le.classes_)\n",
    "plt.xticks(list(range(6)), le.classes_)\n",
    "plt.show()"
   ]
  },
  {
   "cell_type": "markdown",
   "id": "ad8abaf5",
   "metadata": {},
   "source": [
    "The confusion matrix shows that there are minor issues predicting between english and us."
   ]
  },
  {
   "cell_type": "markdown",
   "id": "4bb84464",
   "metadata": {},
   "source": [
    "## Loading in the Holdout set\n",
    "This will provide further validation that our model selection and parameters are correct."
   ]
  },
  {
   "cell_type": "code",
   "execution_count": 11,
   "id": "460f9129",
   "metadata": {},
   "outputs": [],
   "source": [
    "path = 'AllTestwithSTD.csv'\n",
    "tdf = pd.read_csv(ExtPath + path)\n",
    "tdf.drop('Unnamed: 0', inplace = True , axis = 1)"
   ]
  },
  {
   "cell_type": "code",
   "execution_count": 12,
   "id": "5ee4f07c",
   "metadata": {},
   "outputs": [
    {
     "data": {
      "text/html": [
       "<div>\n",
       "<style scoped>\n",
       "    .dataframe tbody tr th:only-of-type {\n",
       "        vertical-align: middle;\n",
       "    }\n",
       "\n",
       "    .dataframe tbody tr th {\n",
       "        vertical-align: top;\n",
       "    }\n",
       "\n",
       "    .dataframe thead th {\n",
       "        text-align: right;\n",
       "    }\n",
       "</style>\n",
       "<table border=\"1\" class=\"dataframe\">\n",
       "  <thead>\n",
       "    <tr style=\"text-align: right;\">\n",
       "      <th></th>\n",
       "      <th>label</th>\n",
       "      <th>spectral_centroid</th>\n",
       "      <th>spectral_bandwidth</th>\n",
       "      <th>spectral_rolloff</th>\n",
       "      <th>mfcc1</th>\n",
       "      <th>Std1</th>\n",
       "      <th>mfcc2</th>\n",
       "      <th>Std2</th>\n",
       "      <th>mfcc3</th>\n",
       "      <th>Std3</th>\n",
       "      <th>...</th>\n",
       "      <th>mfcc8</th>\n",
       "      <th>Std8</th>\n",
       "      <th>mfcc9</th>\n",
       "      <th>Std9</th>\n",
       "      <th>mfcc10</th>\n",
       "      <th>Std10</th>\n",
       "      <th>mfcc11</th>\n",
       "      <th>Std11</th>\n",
       "      <th>mfcc12</th>\n",
       "      <th>Std12</th>\n",
       "    </tr>\n",
       "  </thead>\n",
       "  <tbody>\n",
       "    <tr>\n",
       "      <th>0</th>\n",
       "      <td>us</td>\n",
       "      <td>2989.352534</td>\n",
       "      <td>3339.757694</td>\n",
       "      <td>5928.812241</td>\n",
       "      <td>1070.9161</td>\n",
       "      <td>286.77866</td>\n",
       "      <td>359.35046</td>\n",
       "      <td>256.33795</td>\n",
       "      <td>64.704390</td>\n",
       "      <td>136.94075</td>\n",
       "      <td>...</td>\n",
       "      <td>10.516781</td>\n",
       "      <td>17.959404</td>\n",
       "      <td>-3.883029</td>\n",
       "      <td>5.293398</td>\n",
       "      <td>-5.710344</td>\n",
       "      <td>11.083928</td>\n",
       "      <td>-17.474850</td>\n",
       "      <td>30.463350</td>\n",
       "      <td>-23.130020</td>\n",
       "      <td>31.321636</td>\n",
       "    </tr>\n",
       "    <tr>\n",
       "      <th>1</th>\n",
       "      <td>us</td>\n",
       "      <td>2133.837000</td>\n",
       "      <td>2207.336507</td>\n",
       "      <td>3960.401173</td>\n",
       "      <td>1531.2106</td>\n",
       "      <td>220.63615</td>\n",
       "      <td>446.88640</td>\n",
       "      <td>239.07928</td>\n",
       "      <td>25.928629</td>\n",
       "      <td>91.34565</td>\n",
       "      <td>...</td>\n",
       "      <td>-4.587084</td>\n",
       "      <td>15.005417</td>\n",
       "      <td>-3.340641</td>\n",
       "      <td>5.584820</td>\n",
       "      <td>-10.501137</td>\n",
       "      <td>13.503418</td>\n",
       "      <td>-25.604900</td>\n",
       "      <td>41.803677</td>\n",
       "      <td>-6.883898</td>\n",
       "      <td>32.595720</td>\n",
       "    </tr>\n",
       "    <tr>\n",
       "      <th>2</th>\n",
       "      <td>england</td>\n",
       "      <td>2521.102006</td>\n",
       "      <td>1905.139312</td>\n",
       "      <td>4272.600446</td>\n",
       "      <td>1704.9707</td>\n",
       "      <td>259.72937</td>\n",
       "      <td>465.13617</td>\n",
       "      <td>279.39984</td>\n",
       "      <td>-55.900300</td>\n",
       "      <td>172.24391</td>\n",
       "      <td>...</td>\n",
       "      <td>17.141512</td>\n",
       "      <td>22.572805</td>\n",
       "      <td>1.076097</td>\n",
       "      <td>6.331244</td>\n",
       "      <td>9.164820</td>\n",
       "      <td>13.704433</td>\n",
       "      <td>-71.791250</td>\n",
       "      <td>40.602120</td>\n",
       "      <td>-40.188183</td>\n",
       "      <td>37.455463</td>\n",
       "    </tr>\n",
       "    <tr>\n",
       "      <th>3</th>\n",
       "      <td>us</td>\n",
       "      <td>2671.489951</td>\n",
       "      <td>2733.928177</td>\n",
       "      <td>4713.298112</td>\n",
       "      <td>1509.9088</td>\n",
       "      <td>321.67624</td>\n",
       "      <td>469.32346</td>\n",
       "      <td>263.20477</td>\n",
       "      <td>-83.308320</td>\n",
       "      <td>138.15361</td>\n",
       "      <td>...</td>\n",
       "      <td>-13.213719</td>\n",
       "      <td>22.282640</td>\n",
       "      <td>6.017400</td>\n",
       "      <td>5.678208</td>\n",
       "      <td>-12.766272</td>\n",
       "      <td>11.620600</td>\n",
       "      <td>-3.396441</td>\n",
       "      <td>31.158504</td>\n",
       "      <td>-36.797770</td>\n",
       "      <td>43.210537</td>\n",
       "    </tr>\n",
       "    <tr>\n",
       "      <th>4</th>\n",
       "      <td>other</td>\n",
       "      <td>2688.984365</td>\n",
       "      <td>2766.801820</td>\n",
       "      <td>5267.713134</td>\n",
       "      <td>1411.5352</td>\n",
       "      <td>253.50493</td>\n",
       "      <td>396.91510</td>\n",
       "      <td>211.12108</td>\n",
       "      <td>-37.508797</td>\n",
       "      <td>128.46094</td>\n",
       "      <td>...</td>\n",
       "      <td>8.582016</td>\n",
       "      <td>20.448800</td>\n",
       "      <td>-1.915302</td>\n",
       "      <td>2.872806</td>\n",
       "      <td>4.211450</td>\n",
       "      <td>8.148054</td>\n",
       "      <td>-17.958584</td>\n",
       "      <td>26.262750</td>\n",
       "      <td>-7.847155</td>\n",
       "      <td>32.220670</td>\n",
       "    </tr>\n",
       "  </tbody>\n",
       "</table>\n",
       "<p>5 rows × 28 columns</p>\n",
       "</div>"
      ],
      "text/plain": [
       "     label  spectral_centroid  spectral_bandwidth  spectral_rolloff  \\\n",
       "0       us        2989.352534         3339.757694       5928.812241   \n",
       "1       us        2133.837000         2207.336507       3960.401173   \n",
       "2  england        2521.102006         1905.139312       4272.600446   \n",
       "3       us        2671.489951         2733.928177       4713.298112   \n",
       "4    other        2688.984365         2766.801820       5267.713134   \n",
       "\n",
       "       mfcc1       Std1      mfcc2       Std2      mfcc3       Std3  ...  \\\n",
       "0  1070.9161  286.77866  359.35046  256.33795  64.704390  136.94075  ...   \n",
       "1  1531.2106  220.63615  446.88640  239.07928  25.928629   91.34565  ...   \n",
       "2  1704.9707  259.72937  465.13617  279.39984 -55.900300  172.24391  ...   \n",
       "3  1509.9088  321.67624  469.32346  263.20477 -83.308320  138.15361  ...   \n",
       "4  1411.5352  253.50493  396.91510  211.12108 -37.508797  128.46094  ...   \n",
       "\n",
       "       mfcc8       Std8     mfcc9      Std9     mfcc10      Std10     mfcc11  \\\n",
       "0  10.516781  17.959404 -3.883029  5.293398  -5.710344  11.083928 -17.474850   \n",
       "1  -4.587084  15.005417 -3.340641  5.584820 -10.501137  13.503418 -25.604900   \n",
       "2  17.141512  22.572805  1.076097  6.331244   9.164820  13.704433 -71.791250   \n",
       "3 -13.213719  22.282640  6.017400  5.678208 -12.766272  11.620600  -3.396441   \n",
       "4   8.582016  20.448800 -1.915302  2.872806   4.211450   8.148054 -17.958584   \n",
       "\n",
       "       Std11     mfcc12      Std12  \n",
       "0  30.463350 -23.130020  31.321636  \n",
       "1  41.803677  -6.883898  32.595720  \n",
       "2  40.602120 -40.188183  37.455463  \n",
       "3  31.158504 -36.797770  43.210537  \n",
       "4  26.262750  -7.847155  32.220670  \n",
       "\n",
       "[5 rows x 28 columns]"
      ]
     },
     "execution_count": 12,
     "metadata": {},
     "output_type": "execute_result"
    }
   ],
   "source": [
    "tdf.head()"
   ]
  },
  {
   "cell_type": "markdown",
   "id": "b623aca7",
   "metadata": {},
   "source": [
    "This dataset has the same form as before but is data that the model has for sure never seen before."
   ]
  },
  {
   "cell_type": "code",
   "execution_count": 13,
   "id": "b82c028b",
   "metadata": {},
   "outputs": [],
   "source": [
    "tdf['label'] = le.transform(tdf.label)"
   ]
  },
  {
   "cell_type": "markdown",
   "id": "4c513145",
   "metadata": {},
   "source": [
    "Tranfrom our labels to their integer counterparts."
   ]
  },
  {
   "cell_type": "code",
   "execution_count": 14,
   "id": "0a68506e",
   "metadata": {},
   "outputs": [],
   "source": [
    "tpreds = bst.predict(tdf.drop('label',axis = 1))"
   ]
  },
  {
   "cell_type": "markdown",
   "id": "eee75761",
   "metadata": {},
   "source": [
    "Create predictions based on the model that was created."
   ]
  },
  {
   "cell_type": "code",
   "execution_count": 15,
   "id": "f33f96c9",
   "metadata": {},
   "outputs": [
    {
     "name": "stdout",
     "output_type": "stream",
     "text": [
      "Accuracy score 0.6771300448430493\n"
     ]
    }
   ],
   "source": [
    "print(\"Accuracy score\", sklearn.metrics.accuracy_score(tdf['label'], tpreds))"
   ]
  },
  {
   "cell_type": "markdown",
   "id": "1b981313",
   "metadata": {},
   "source": [
    "The accuracy score for the holdout set is much lower than the validation set. This mean that the model is overfitting but 78.6% accuracy is still fairly good."
   ]
  },
  {
   "cell_type": "code",
   "execution_count": 16,
   "id": "9210c452",
   "metadata": {},
   "outputs": [
    {
     "name": "stdout",
     "output_type": "stream",
     "text": [
      "[('australia', 0.6310160427807486), ('canada', 0.584), ('england', 0.6771653543307087), ('indian', 0.635897435897436), ('other', 0.6044776119402986), ('us', 0.7291849255039439)]\n"
     ]
    }
   ],
   "source": [
    "print(list(zip(le.classes_,f1_score( tdf['label'], tpreds,average = None))))"
   ]
  },
  {
   "cell_type": "markdown",
   "id": "659bb36a",
   "metadata": {},
   "source": [
    "Our F1 scores show that there are some major issues with a few of the accents."
   ]
  },
  {
   "cell_type": "code",
   "execution_count": 17,
   "id": "8043e03c",
   "metadata": {},
   "outputs": [
    {
     "data": {
      "image/png": "[encoded data removed]",
      "text/plain": [
       "<Figure size 640x480 with 2 Axes>"
      ]
     },
     "metadata": {},
     "output_type": "display_data"
    }
   ],
   "source": [
    "ConfusionMatrixDisplay.from_estimator(bst,tdf.drop('label',axis = 1), tdf['label']) \n",
    "plt.yticks(list(range(6)), le.classes_)\n",
    "plt.xticks(list(range(6)), le.classes_)\n",
    "plt.show()"
   ]
  },
  {
   "cell_type": "markdown",
   "id": "06475622",
   "metadata": {},
   "source": [
    "Our model appears to have trouble with Australians, canadians and the other categories. The best way to fix this would be to have more samples and a heavily validated dataset to make sure that samples are labeled properly."
   ]
  },
  {
   "cell_type": "markdown",
   "id": "174ad41d",
   "metadata": {},
   "source": [
    "## Tuning XGBoost"
   ]
  },
  {
   "cell_type": "code",
   "execution_count": 18,
   "id": "a96b3aa8",
   "metadata": {},
   "outputs": [],
   "source": [
    "from sklearn.model_selection import StratifiedKFold,cross_val_score\n",
    "from hyperopt import tpe, STATUS_OK, Trials, hp, fmin, STATUS_OK, space_eval"
   ]
  },
  {
   "cell_type": "markdown",
   "id": "5966d311",
   "metadata": {},
   "source": [
    "Import libraries for automated tuning."
   ]
  },
  {
   "cell_type": "code",
   "execution_count": 19,
   "id": "2829d5ed",
   "metadata": {},
   "outputs": [],
   "source": [
    "# Space\n",
    "space = {\n",
    "    'learning_rate': hp.choice('learning_rate', [0.0001,0.001, 0.01, 0.1, 1]),\n",
    "    'max_depth' : hp.choice('max_depth', range(3,19,3)),\n",
    "    'gamma' : hp.choice('gamma', [i/10.0 for i in range(0,5)]),\n",
    "    'colsample_bytree' : hp.choice('colsample_bytree', [i/10.0 for i in range(3,10)]),     \n",
    "    'reg_alpha' : hp.choice('reg_alpha', [1e-5, 1e-2, 0.1, 1, 10, 100]), \n",
    "    'reg_lambda' : hp.choice('reg_lambda', [1e-5, 1e-2, 0.1, 1, 10, 100]),\n",
    "    'eta' : hp.choice('eta', [.1,.2,.3,.6,.8,1])\n",
    "}"
   ]
  },
  {
   "cell_type": "markdown",
   "id": "235abc7e",
   "metadata": {},
   "source": [
    "Create a search space for Hyperopt to look over."
   ]
  },
  {
   "cell_type": "code",
   "execution_count": 20,
   "id": "de01ed6b",
   "metadata": {},
   "outputs": [],
   "source": [
    "# Set up the k-fold cross-validation\n",
    "kfold = StratifiedKFold(n_splits=3, shuffle=True, random_state=0)"
   ]
  },
  {
   "cell_type": "markdown",
   "id": "fe3dcde4",
   "metadata": {},
   "source": [
    "Create a Stratified K Fold cross valdation to ensure we dont accidentally create bias."
   ]
  },
  {
   "cell_type": "code",
   "execution_count": 21,
   "id": "fe3d9a31",
   "metadata": {},
   "outputs": [],
   "source": [
    "# Objective function\n",
    "def objective(params):\n",
    "    \n",
    "    xgboost = XGBClassifier(seed=0, \n",
    "                            tree_method='gpu_hist',\n",
    "                            gpu_id=0,\n",
    "                            **params)\n",
    "    score = cross_val_score(estimator=xgboost, \n",
    "                            X=X_train, \n",
    "                            y=y_train, \n",
    "                            cv=kfold, \n",
    "                            scoring='f1_macro',\n",
    "                            n_jobs = -1\n",
    "                            ).mean()\n",
    "    # Loss is negative score\n",
    "    loss = - score\n",
    "    # Dictionary with information for evaluation\n",
    "    return {'loss': loss, 'params': params, 'status': STATUS_OK}"
   ]
  },
  {
   "cell_type": "markdown",
   "id": "790c32e1",
   "metadata": {},
   "source": [
    "Setup the function that will be used to train each model and produce a score."
   ]
  },
  {
   "cell_type": "code",
   "execution_count": 22,
   "id": "9174683a",
   "metadata": {},
   "outputs": [
    {
     "name": "stdout",
     "output_type": "stream",
     "text": [
      "100%|██████████| 15/15 [10:04<00:00, 40.31s/trial, best loss: -0.9674183816767093]\n"
     ]
    }
   ],
   "source": [
    "# Optimize\n",
    "best = fmin(fn = objective, space = space, algo = tpe.suggest, max_evals = 15, trials = Trials())"
   ]
  },
  {
   "cell_type": "markdown",
   "id": "6698592d",
   "metadata": {},
   "source": [
    "Use Hyperopt to do a bayesian search for the best parameters in the search space. Hyperopt will try to minimize the loss so we must use the negative of the F1."
   ]
  },
  {
   "cell_type": "code",
   "execution_count": 23,
   "id": "4c072cb2",
   "metadata": {},
   "outputs": [
    {
     "name": "stdout",
     "output_type": "stream",
     "text": [
      "{'colsample_bytree': 4, 'eta': 2, 'gamma': 4, 'learning_rate': 3, 'max_depth': 4, 'reg_alpha': 1, 'reg_lambda': 0}\n",
      "{'colsample_bytree': 0.7, 'eta': 0.3, 'gamma': 0.4, 'learning_rate': 0.1, 'max_depth': 15, 'reg_alpha': 0.01, 'reg_lambda': 1e-05}\n"
     ]
    }
   ],
   "source": [
    "# Print the index of the best parameters\n",
    "print(best)\n",
    "# Print the values of the best parameters\n",
    "print(space_eval(space, best))"
   ]
  },
  {
   "cell_type": "markdown",
   "id": "e3500390",
   "metadata": {},
   "source": [
    "Output our best parameters."
   ]
  },
  {
   "cell_type": "code",
   "execution_count": 24,
   "id": "f9cf401b",
   "metadata": {},
   "outputs": [],
   "source": [
    "# Train model using the best parameters\n",
    "xgboost_bo = XGBClassifier(seed=0, \n",
    "                           colsample_bytree=space_eval(space, best)['colsample_bytree'], \n",
    "                           gamma=space_eval(space, best)['gamma'], \n",
    "                           learning_rate=space_eval(space, best)['learning_rate'], \n",
    "                           max_depth=space_eval(space, best)['max_depth'], \n",
    "                           reg_alpha=space_eval(space, best)['reg_alpha'],\n",
    "                           reg_lambda=space_eval(space, best)['reg_lambda'],\n",
    "                           eta = space_eval(space, best)['eta'],\n",
    "                           num_parallel_tree = 5,\n",
    "                           tree_method='gpu_hist',\n",
    "                            gpu_id=0,\n",
    "                           ).fit(X_train,y_train)\n",
    "# Make prediction using the best model\n",
    "bayesian_opt_predict = xgboost_bo.predict(X_test)\n",
    "# Get predicted probabilities\n",
    "bayesian_opt_predict_prob = xgboost_bo.predict_proba(X_test)[:,1]\n",
    "# Get performance metrics\n",
    "precision, recall, fscore, support = score(y_test, bayesian_opt_predict)"
   ]
  },
  {
   "cell_type": "markdown",
   "id": "07686c7b",
   "metadata": {},
   "source": [
    "Training a model using the best parameters from the Hyperopt search."
   ]
  },
  {
   "cell_type": "code",
   "execution_count": 25,
   "id": "fd3c30b4",
   "metadata": {},
   "outputs": [
    {
     "name": "stdout",
     "output_type": "stream",
     "text": [
      "           Precision    Recall   F Score  Support\n",
      "australia   1.000000  1.000000  1.000000    249.0\n",
      "canada      1.000000  1.000000  1.000000    244.0\n",
      "england     0.956522  0.974170  0.965265    271.0\n",
      "indian      1.000000  1.000000  1.000000    222.0\n",
      "other       0.992883  0.996429  0.994652    280.0\n",
      "us          0.969298  0.944444  0.956710    234.0\n"
     ]
    }
   ],
   "source": [
    "Scores = pd.DataFrame(data = np.array(score(y_test, bayesian_opt_predict)).T,\n",
    "    index = le.classes_,\n",
    "             columns = ['Precision','Recall','F Score','Support'])\n",
    "print(Scores)"
   ]
  },
  {
   "cell_type": "markdown",
   "id": "614539a4",
   "metadata": {},
   "source": [
    "Looking at the precision recall and F score for the validation set. As before this also suggests our model is very good."
   ]
  },
  {
   "cell_type": "markdown",
   "id": "63b0da7e",
   "metadata": {},
   "source": [
    "### Testing our new model on the Holdout set"
   ]
  },
  {
   "cell_type": "code",
   "execution_count": 26,
   "id": "4855ef4f",
   "metadata": {},
   "outputs": [
    {
     "name": "stdout",
     "output_type": "stream",
     "text": [
      "Accuracy score 0.7862481315396114\n"
     ]
    }
   ],
   "source": [
    "print(\"Accuracy score\", sklearn.metrics.accuracy_score(tdf['label'], xgboost_bo.predict(tdf.drop('label',axis = 1))))"
   ]
  },
  {
   "cell_type": "markdown",
   "id": "c68c88ea",
   "metadata": {},
   "source": [
    "The Accuracy score has improved significantly. This may be reaching the maximum accuracy possible with a ML algorithm."
   ]
  },
  {
   "cell_type": "code",
   "execution_count": 27,
   "id": "4bf01503",
   "metadata": {},
   "outputs": [
    {
     "data": {
      "text/plain": [
       "array([0.70748299, 0.69512195, 0.76736111, 0.71052632, 0.72115385,\n",
       "       0.82995101])"
      ]
     },
     "execution_count": 27,
     "metadata": {},
     "output_type": "execute_result"
    }
   ],
   "source": [
    "f1_score( tdf['label'], xgboost_bo.predict(tdf.drop('label',axis = 1)),average = None)"
   ]
  },
  {
   "cell_type": "markdown",
   "id": "371a72b8",
   "metadata": {},
   "source": [
    "Once again the F1 scores indicate that our model is having trouble with a few of the classes but has improved over the baseline model."
   ]
  },
  {
   "cell_type": "code",
   "execution_count": 28,
   "id": "0a50695c",
   "metadata": {},
   "outputs": [
    {
     "data": {
      "image/png": "[encoded data removed]",
      "text/plain": [
       "<Figure size 640x480 with 2 Axes>"
      ]
     },
     "metadata": {},
     "output_type": "display_data"
    }
   ],
   "source": [
    "ConfusionMatrixDisplay.from_estimator(xgboost_bo,tdf.drop('label',axis = 1), tdf['label']) \n",
    "plt.yticks(list(range(6)), le.classes_)\n",
    "plt.xticks(list(range(6)), le.classes_)\n",
    "plt.show()"
   ]
  },
  {
   "cell_type": "markdown",
   "id": "11117930",
   "metadata": {},
   "source": [
    "The confusion matrix again shows the difficulties with australia and canada. The remaining classes have improved to an acceptable level."
   ]
  },
  {
   "cell_type": "code",
   "execution_count": 29,
   "id": "c2adf4aa",
   "metadata": {},
   "outputs": [],
   "source": [
    "xgboost_bo.save_model('XGBTuned.model')"
   ]
  },
  {
   "cell_type": "markdown",
   "id": "b9353660",
   "metadata": {},
   "source": [
    "Save the model"
   ]
  },
  {
   "cell_type": "markdown",
   "id": "043cc9aa",
   "metadata": {},
   "source": [
    "### Visualizing the model"
   ]
  },
  {
   "cell_type": "code",
   "execution_count": 30,
   "id": "f97b7dd8",
   "metadata": {},
   "outputs": [],
   "source": [
    "from xgboost import plot_tree\n",
    "from xgboost import to_graphviz\n",
    "import matplotlib.pyplot as plt"
   ]
  },
  {
   "cell_type": "code",
   "execution_count": 31,
   "id": "b8d67306",
   "metadata": {},
   "outputs": [
    {
     "data": {
      "text/plain": [
       "'XGBoostModelView.svg'"
      ]
     },
     "execution_count": 31,
     "metadata": {},
     "output_type": "execute_result"
    }
   ],
   "source": [
    "format = 'svg'\n",
    "image = to_graphviz(xgboost_bo, num_trees=0, rankdir='LR')\n",
    "#image.graph_attr = {'dpi':'400'}\n",
    "image.render('XGBoostModelView', format = format)"
   ]
  },
  {
   "cell_type": "markdown",
   "id": "9c7e4fdf",
   "metadata": {},
   "source": [
    "Model view is too large to view in Jupyter so it will not be shown here. To view open repository."
   ]
  },
  {
   "cell_type": "markdown",
   "id": "e1dc86ea",
   "metadata": {},
   "source": [
    "# Deep Learning Model"
   ]
  },
  {
   "cell_type": "code",
   "execution_count": 32,
   "id": "dbda59bf",
   "metadata": {},
   "outputs": [],
   "source": [
    "import tensorflow as tf\n",
    "from sklearn.preprocessing import OneHotEncoder\n",
    "from sklearn.preprocessing import MinMaxScaler"
   ]
  },
  {
   "cell_type": "markdown",
   "id": "9f57ba64",
   "metadata": {},
   "source": [
    "Import deep learning libraries."
   ]
  },
  {
   "cell_type": "code",
   "execution_count": 33,
   "id": "142fb0af",
   "metadata": {},
   "outputs": [
    {
     "data": {
      "text/html": [
       "<style>#sk-container-id-1 {color: black;background-color: white;}#sk-container-id-1 pre{padding: 0;}#sk-container-id-1 div.sk-toggleable {background-color: white;}#sk-container-id-1 label.sk-toggleable__label {cursor: pointer;display: block;width: 100%;margin-bottom: 0;padding: 0.3em;box-sizing: border-box;text-align: center;}#sk-container-id-1 label.sk-toggleable__label-arrow:before {content: \"▸\";float: left;margin-right: 0.25em;color: #696969;}#sk-container-id-1 label.sk-toggleable__label-arrow:hover:before {color: black;}#sk-container-id-1 div.sk-estimator:hover label.sk-toggleable__label-arrow:before {color: black;}#sk-container-id-1 div.sk-toggleable__content {max-height: 0;max-width: 0;overflow: hidden;text-align: left;background-color: #f0f8ff;}#sk-container-id-1 div.sk-toggleable__content pre {margin: 0.2em;color: black;border-radius: 0.25em;background-color: #f0f8ff;}#sk-container-id-1 input.sk-toggleable__control:checked~div.sk-toggleable__content {max-height: 200px;max-width: 100%;overflow: auto;}#sk-container-id-1 input.sk-toggleable__control:checked~label.sk-toggleable__label-arrow:before {content: \"▾\";}#sk-container-id-1 div.sk-estimator input.sk-toggleable__control:checked~label.sk-toggleable__label {background-color: #d4ebff;}#sk-container-id-1 div.sk-label input.sk-toggleable__control:checked~label.sk-toggleable__label {background-color: #d4ebff;}#sk-container-id-1 input.sk-hidden--visually {border: 0;clip: rect(1px 1px 1px 1px);clip: rect(1px, 1px, 1px, 1px);height: 1px;margin: -1px;overflow: hidden;padding: 0;position: absolute;width: 1px;}#sk-container-id-1 div.sk-estimator {font-family: monospace;background-color: #f0f8ff;border: 1px dotted black;border-radius: 0.25em;box-sizing: border-box;margin-bottom: 0.5em;}#sk-container-id-1 div.sk-estimator:hover {background-color: #d4ebff;}#sk-container-id-1 div.sk-parallel-item::after {content: \"\";width: 100%;border-bottom: 1px solid gray;flex-grow: 1;}#sk-container-id-1 div.sk-label:hover label.sk-toggleable__label {background-color: #d4ebff;}#sk-container-id-1 div.sk-serial::before {content: \"\";position: absolute;border-left: 1px solid gray;box-sizing: border-box;top: 0;bottom: 0;left: 50%;z-index: 0;}#sk-container-id-1 div.sk-serial {display: flex;flex-direction: column;align-items: center;background-color: white;padding-right: 0.2em;padding-left: 0.2em;position: relative;}#sk-container-id-1 div.sk-item {position: relative;z-index: 1;}#sk-container-id-1 div.sk-parallel {display: flex;align-items: stretch;justify-content: center;background-color: white;position: relative;}#sk-container-id-1 div.sk-item::before, #sk-container-id-1 div.sk-parallel-item::before {content: \"\";position: absolute;border-left: 1px solid gray;box-sizing: border-box;top: 0;bottom: 0;left: 50%;z-index: -1;}#sk-container-id-1 div.sk-parallel-item {display: flex;flex-direction: column;z-index: 1;position: relative;background-color: white;}#sk-container-id-1 div.sk-parallel-item:first-child::after {align-self: flex-end;width: 50%;}#sk-container-id-1 div.sk-parallel-item:last-child::after {align-self: flex-start;width: 50%;}#sk-container-id-1 div.sk-parallel-item:only-child::after {width: 0;}#sk-container-id-1 div.sk-dashed-wrapped {border: 1px dashed gray;margin: 0 0.4em 0.5em 0.4em;box-sizing: border-box;padding-bottom: 0.4em;background-color: white;}#sk-container-id-1 div.sk-label label {font-family: monospace;font-weight: bold;display: inline-block;line-height: 1.2em;}#sk-container-id-1 div.sk-label-container {text-align: center;}#sk-container-id-1 div.sk-container {/* jupyter's `normalize.less` sets `[hidden] { display: none; }` but bootstrap.min.css set `[hidden] { display: none !important; }` so we also need the `!important` here to be able to override the default hidden behavior on the sphinx rendered scikit-learn.org. See: https://github.com/scikit-learn/scikit-learn/issues/21755 */display: inline-block !important;position: relative;}#sk-container-id-1 div.sk-text-repr-fallback {display: none;}</style><div id=\"sk-container-id-1\" class=\"sk-top-container\"><div class=\"sk-text-repr-fallback\"><pre>MinMaxScaler()</pre><b>In a Jupyter environment, please rerun this cell to show the HTML representation or trust the notebook. <br />On GitHub, the HTML representation is unable to render, please try loading this page with nbviewer.org.</b></div><div class=\"sk-container\" hidden><div class=\"sk-item\"><div class=\"sk-estimator sk-toggleable\"><input class=\"sk-toggleable__control sk-hidden--visually\" id=\"sk-estimator-id-1\" type=\"checkbox\" checked><label for=\"sk-estimator-id-1\" class=\"sk-toggleable__label sk-toggleable__label-arrow\">MinMaxScaler</label><div class=\"sk-toggleable__content\"><pre>MinMaxScaler()</pre></div></div></div></div></div>"
      ],
      "text/plain": [
       "MinMaxScaler()"
      ]
     },
     "execution_count": 33,
     "metadata": {},
     "output_type": "execute_result"
    }
   ],
   "source": [
    "scaler = MinMaxScaler()\n",
    "scaler.fit(X_train)"
   ]
  },
  {
   "cell_type": "markdown",
   "id": "6fc6e795",
   "metadata": {},
   "source": [
    "Scale the data to be in a normalized range for optimal trainnig of the deep learning algorithm. This helps with weight imbalances."
   ]
  },
  {
   "cell_type": "code",
   "execution_count": 34,
   "id": "96b8908d",
   "metadata": {},
   "outputs": [
    {
     "data": {
      "text/html": [
       "<style>#sk-container-id-2 {color: black;background-color: white;}#sk-container-id-2 pre{padding: 0;}#sk-container-id-2 div.sk-toggleable {background-color: white;}#sk-container-id-2 label.sk-toggleable__label {cursor: pointer;display: block;width: 100%;margin-bottom: 0;padding: 0.3em;box-sizing: border-box;text-align: center;}#sk-container-id-2 label.sk-toggleable__label-arrow:before {content: \"▸\";float: left;margin-right: 0.25em;color: #696969;}#sk-container-id-2 label.sk-toggleable__label-arrow:hover:before {color: black;}#sk-container-id-2 div.sk-estimator:hover label.sk-toggleable__label-arrow:before {color: black;}#sk-container-id-2 div.sk-toggleable__content {max-height: 0;max-width: 0;overflow: hidden;text-align: left;background-color: #f0f8ff;}#sk-container-id-2 div.sk-toggleable__content pre {margin: 0.2em;color: black;border-radius: 0.25em;background-color: #f0f8ff;}#sk-container-id-2 input.sk-toggleable__control:checked~div.sk-toggleable__content {max-height: 200px;max-width: 100%;overflow: auto;}#sk-container-id-2 input.sk-toggleable__control:checked~label.sk-toggleable__label-arrow:before {content: \"▾\";}#sk-container-id-2 div.sk-estimator input.sk-toggleable__control:checked~label.sk-toggleable__label {background-color: #d4ebff;}#sk-container-id-2 div.sk-label input.sk-toggleable__control:checked~label.sk-toggleable__label {background-color: #d4ebff;}#sk-container-id-2 input.sk-hidden--visually {border: 0;clip: rect(1px 1px 1px 1px);clip: rect(1px, 1px, 1px, 1px);height: 1px;margin: -1px;overflow: hidden;padding: 0;position: absolute;width: 1px;}#sk-container-id-2 div.sk-estimator {font-family: monospace;background-color: #f0f8ff;border: 1px dotted black;border-radius: 0.25em;box-sizing: border-box;margin-bottom: 0.5em;}#sk-container-id-2 div.sk-estimator:hover {background-color: #d4ebff;}#sk-container-id-2 div.sk-parallel-item::after {content: \"\";width: 100%;border-bottom: 1px solid gray;flex-grow: 1;}#sk-container-id-2 div.sk-label:hover label.sk-toggleable__label {background-color: #d4ebff;}#sk-container-id-2 div.sk-serial::before {content: \"\";position: absolute;border-left: 1px solid gray;box-sizing: border-box;top: 0;bottom: 0;left: 50%;z-index: 0;}#sk-container-id-2 div.sk-serial {display: flex;flex-direction: column;align-items: center;background-color: white;padding-right: 0.2em;padding-left: 0.2em;position: relative;}#sk-container-id-2 div.sk-item {position: relative;z-index: 1;}#sk-container-id-2 div.sk-parallel {display: flex;align-items: stretch;justify-content: center;background-color: white;position: relative;}#sk-container-id-2 div.sk-item::before, #sk-container-id-2 div.sk-parallel-item::before {content: \"\";position: absolute;border-left: 1px solid gray;box-sizing: border-box;top: 0;bottom: 0;left: 50%;z-index: -1;}#sk-container-id-2 div.sk-parallel-item {display: flex;flex-direction: column;z-index: 1;position: relative;background-color: white;}#sk-container-id-2 div.sk-parallel-item:first-child::after {align-self: flex-end;width: 50%;}#sk-container-id-2 div.sk-parallel-item:last-child::after {align-self: flex-start;width: 50%;}#sk-container-id-2 div.sk-parallel-item:only-child::after {width: 0;}#sk-container-id-2 div.sk-dashed-wrapped {border: 1px dashed gray;margin: 0 0.4em 0.5em 0.4em;box-sizing: border-box;padding-bottom: 0.4em;background-color: white;}#sk-container-id-2 div.sk-label label {font-family: monospace;font-weight: bold;display: inline-block;line-height: 1.2em;}#sk-container-id-2 div.sk-label-container {text-align: center;}#sk-container-id-2 div.sk-container {/* jupyter's `normalize.less` sets `[hidden] { display: none; }` but bootstrap.min.css set `[hidden] { display: none !important; }` so we also need the `!important` here to be able to override the default hidden behavior on the sphinx rendered scikit-learn.org. See: https://github.com/scikit-learn/scikit-learn/issues/21755 */display: inline-block !important;position: relative;}#sk-container-id-2 div.sk-text-repr-fallback {display: none;}</style><div id=\"sk-container-id-2\" class=\"sk-top-container\"><div class=\"sk-text-repr-fallback\"><pre>OneHotEncoder(handle_unknown=&#x27;ignore&#x27;)</pre><b>In a Jupyter environment, please rerun this cell to show the HTML representation or trust the notebook. <br />On GitHub, the HTML representation is unable to render, please try loading this page with nbviewer.org.</b></div><div class=\"sk-container\" hidden><div class=\"sk-item\"><div class=\"sk-estimator sk-toggleable\"><input class=\"sk-toggleable__control sk-hidden--visually\" id=\"sk-estimator-id-2\" type=\"checkbox\" checked><label for=\"sk-estimator-id-2\" class=\"sk-toggleable__label sk-toggleable__label-arrow\">OneHotEncoder</label><div class=\"sk-toggleable__content\"><pre>OneHotEncoder(handle_unknown=&#x27;ignore&#x27;)</pre></div></div></div></div></div>"
      ],
      "text/plain": [
       "OneHotEncoder(handle_unknown='ignore')"
      ]
     },
     "execution_count": 34,
     "metadata": {},
     "output_type": "execute_result"
    }
   ],
   "source": [
    "encoder = OneHotEncoder(handle_unknown=\"ignore\")\n",
    "encoder.fit(y_train.reshape(-1,1))"
   ]
  },
  {
   "cell_type": "markdown",
   "id": "37280bdf",
   "metadata": {},
   "source": [
    "One hot encode the labels so we can use a 6 node output to our algorithm and provide more seperation between the predictions made."
   ]
  },
  {
   "cell_type": "code",
   "execution_count": 35,
   "id": "5595fa03",
   "metadata": {},
   "outputs": [],
   "source": [
    "model = tf.keras.models.Sequential([\n",
    "  tf.keras.layers.Flatten(input_shape=(len(x_df[0]),)),\n",
    "  tf.keras.layers.Dense(64,activation='elu'),\n",
    "  tf.keras.layers.Dense(128,activation='relu'),\n",
    "  tf.keras.layers.Dense(128,activation='relu'),\n",
    "  tf.keras.layers.Dense(256,activation='relu'),\n",
    "  tf.keras.layers.Dense(512,activation='swish'),\n",
    "  tf.keras.layers.Dense(256,activation='relu'),\n",
    "  tf.keras.layers.Dense(128,activation='relu'),\n",
    "  tf.keras.layers.Dense(128,activation='relu'),\n",
    "  tf.keras.layers.Dense(128,activation='relu'),\n",
    "  tf.keras.layers.Dense(6,activation= 'softmax')\n",
    "])"
   ]
  },
  {
   "cell_type": "markdown",
   "id": "682f2d6d",
   "metadata": {},
   "source": [
    "Create the model. Here we are using a very simple sequential model, the acctvation functions and layer size were found through trial and error and could be optimize more. This setup uses a softmax on the output to provide a clear prediction result."
   ]
  },
  {
   "cell_type": "code",
   "execution_count": 36,
   "id": "a1565593",
   "metadata": {},
   "outputs": [],
   "source": [
    "model.compile(optimizer='adamax',\n",
    "              loss=tf.keras.losses.MeanSquaredError(),\n",
    "              metrics=['accuracy'])"
   ]
  },
  {
   "cell_type": "markdown",
   "id": "b3239ba6",
   "metadata": {},
   "source": [
    "Compile the model. Here we use adamax, other optimization functions were tried but ultimately made little difference. Accuracy and MSE were chosen due to their simplicity. "
   ]
  },
  {
   "cell_type": "code",
   "execution_count": 37,
   "id": "7ec1a6ae",
   "metadata": {},
   "outputs": [
    {
     "name": "stdout",
     "output_type": "stream",
     "text": [
      "Epoch 1/50\n",
      "1465/1465 [==============================] - 8s 5ms/step - loss: 0.1242 - accuracy: 0.3420 - val_loss: 0.1100 - val_accuracy: 0.4667\n",
      "Epoch 2/50\n",
      "1465/1465 [==============================] - 7s 5ms/step - loss: 0.0968 - accuracy: 0.5442 - val_loss: 0.0848 - val_accuracy: 0.6080\n",
      "Epoch 3/50\n",
      "1465/1465 [==============================] - 7s 5ms/step - loss: 0.0785 - accuracy: 0.6461 - val_loss: 0.0720 - val_accuracy: 0.6807\n",
      "Epoch 4/50\n",
      "1465/1465 [==============================] - 7s 5ms/step - loss: 0.0665 - accuracy: 0.7078 - val_loss: 0.0606 - val_accuracy: 0.7327\n",
      "Epoch 5/50\n",
      "1465/1465 [==============================] - 7s 5ms/step - loss: 0.0577 - accuracy: 0.7505 - val_loss: 0.0545 - val_accuracy: 0.7600\n",
      "Epoch 6/50\n",
      "1465/1465 [==============================] - 7s 5ms/step - loss: 0.0503 - accuracy: 0.7850 - val_loss: 0.0443 - val_accuracy: 0.8133\n",
      "Epoch 7/50\n",
      "1465/1465 [==============================] - 7s 5ms/step - loss: 0.0445 - accuracy: 0.8130 - val_loss: 0.0409 - val_accuracy: 0.8300\n",
      "Epoch 8/50\n",
      "1465/1465 [==============================] - 7s 5ms/step - loss: 0.0398 - accuracy: 0.8342 - val_loss: 0.0377 - val_accuracy: 0.8440\n",
      "Epoch 9/50\n",
      "1465/1465 [==============================] - 7s 5ms/step - loss: 0.0353 - accuracy: 0.8550 - val_loss: 0.0347 - val_accuracy: 0.8520\n",
      "Epoch 10/50\n",
      "1465/1465 [==============================] - 7s 5ms/step - loss: 0.0317 - accuracy: 0.8711 - val_loss: 0.0322 - val_accuracy: 0.8693\n",
      "Epoch 11/50\n",
      "1465/1465 [==============================] - 7s 5ms/step - loss: 0.0284 - accuracy: 0.8856 - val_loss: 0.0283 - val_accuracy: 0.8867\n",
      "Epoch 12/50\n",
      "1465/1465 [==============================] - 7s 5ms/step - loss: 0.0261 - accuracy: 0.8956 - val_loss: 0.0261 - val_accuracy: 0.8933\n",
      "Epoch 13/50\n",
      "1465/1465 [==============================] - 7s 5ms/step - loss: 0.0241 - accuracy: 0.9046 - val_loss: 0.0253 - val_accuracy: 0.8993\n",
      "Epoch 14/50\n",
      "1465/1465 [==============================] - 7s 5ms/step - loss: 0.0221 - accuracy: 0.9124 - val_loss: 0.0199 - val_accuracy: 0.9227\n",
      "Epoch 15/50\n",
      "1465/1465 [==============================] - 7s 5ms/step - loss: 0.0205 - accuracy: 0.9196 - val_loss: 0.0208 - val_accuracy: 0.9200\n",
      "Epoch 16/50\n",
      "1465/1465 [==============================] - 7s 5ms/step - loss: 0.0191 - accuracy: 0.9255 - val_loss: 0.0187 - val_accuracy: 0.9247\n",
      "Epoch 17/50\n",
      "1465/1465 [==============================] - 7s 5ms/step - loss: 0.0177 - accuracy: 0.9311 - val_loss: 0.0214 - val_accuracy: 0.9173\n",
      "Epoch 18/50\n",
      "1465/1465 [==============================] - 7s 5ms/step - loss: 0.0165 - accuracy: 0.9360 - val_loss: 0.0181 - val_accuracy: 0.9267\n",
      "Epoch 19/50\n",
      "1465/1465 [==============================] - 7s 5ms/step - loss: 0.0156 - accuracy: 0.9397 - val_loss: 0.0155 - val_accuracy: 0.9433\n",
      "Epoch 20/50\n",
      "1465/1465 [==============================] - 7s 5ms/step - loss: 0.0149 - accuracy: 0.9426 - val_loss: 0.0148 - val_accuracy: 0.9440\n",
      "Epoch 21/50\n",
      "1465/1465 [==============================] - 7s 5ms/step - loss: 0.0140 - accuracy: 0.9460 - val_loss: 0.0162 - val_accuracy: 0.9347\n",
      "Epoch 22/50\n",
      "1465/1465 [==============================] - 7s 5ms/step - loss: 0.0134 - accuracy: 0.9484 - val_loss: 0.0139 - val_accuracy: 0.9467\n",
      "Epoch 23/50\n",
      "1465/1465 [==============================] - 7s 5ms/step - loss: 0.0126 - accuracy: 0.9520 - val_loss: 0.0148 - val_accuracy: 0.9433\n",
      "Epoch 24/50\n",
      "1465/1465 [==============================] - 7s 5ms/step - loss: 0.0121 - accuracy: 0.9538 - val_loss: 0.0142 - val_accuracy: 0.9487\n",
      "Epoch 25/50\n",
      "1465/1465 [==============================] - 7s 5ms/step - loss: 0.0113 - accuracy: 0.9573 - val_loss: 0.0134 - val_accuracy: 0.9520\n",
      "Epoch 26/50\n",
      "1465/1465 [==============================] - 7s 5ms/step - loss: 0.0112 - accuracy: 0.9575 - val_loss: 0.0152 - val_accuracy: 0.9413\n",
      "Epoch 27/50\n",
      "1465/1465 [==============================] - 7s 5ms/step - loss: 0.0106 - accuracy: 0.9596 - val_loss: 0.0145 - val_accuracy: 0.9433\n",
      "Epoch 28/50\n",
      "1465/1465 [==============================] - 7s 5ms/step - loss: 0.0101 - accuracy: 0.9616 - val_loss: 0.0134 - val_accuracy: 0.9500\n",
      "Epoch 29/50\n",
      "1465/1465 [==============================] - 7s 5ms/step - loss: 0.0098 - accuracy: 0.9625 - val_loss: 0.0136 - val_accuracy: 0.9467\n",
      "Epoch 30/50\n",
      "1465/1465 [==============================] - 7s 5ms/step - loss: 0.0093 - accuracy: 0.9646 - val_loss: 0.0132 - val_accuracy: 0.9480\n",
      "Epoch 31/50\n",
      "1465/1465 [==============================] - 7s 5ms/step - loss: 0.0093 - accuracy: 0.9647 - val_loss: 0.0142 - val_accuracy: 0.9453\n",
      "Epoch 32/50\n",
      "1465/1465 [==============================] - 7s 5ms/step - loss: 0.0088 - accuracy: 0.9664 - val_loss: 0.0127 - val_accuracy: 0.9533\n",
      "Epoch 33/50\n",
      "1465/1465 [==============================] - 7s 5ms/step - loss: 0.0084 - accuracy: 0.9682 - val_loss: 0.0113 - val_accuracy: 0.9587\n",
      "Epoch 34/50\n",
      "1465/1465 [==============================] - 7s 5ms/step - loss: 0.0082 - accuracy: 0.9696 - val_loss: 0.0135 - val_accuracy: 0.9513\n",
      "Epoch 35/50\n",
      "1465/1465 [==============================] - 7s 5ms/step - loss: 0.0077 - accuracy: 0.9711 - val_loss: 0.0134 - val_accuracy: 0.9513\n",
      "Epoch 36/50\n",
      "1465/1465 [==============================] - 7s 5ms/step - loss: 0.0077 - accuracy: 0.9712 - val_loss: 0.0116 - val_accuracy: 0.9547\n",
      "Epoch 37/50\n",
      "1465/1465 [==============================] - 7s 5ms/step - loss: 0.0072 - accuracy: 0.9728 - val_loss: 0.0125 - val_accuracy: 0.9547\n",
      "Epoch 38/50\n",
      "1465/1465 [==============================] - 7s 5ms/step - loss: 0.0071 - accuracy: 0.9735 - val_loss: 0.0096 - val_accuracy: 0.9660\n",
      "Epoch 39/50\n",
      "1465/1465 [==============================] - 7s 5ms/step - loss: 0.0071 - accuracy: 0.9730 - val_loss: 0.0118 - val_accuracy: 0.9560\n",
      "Epoch 40/50\n",
      "1465/1465 [==============================] - 7s 5ms/step - loss: 0.0068 - accuracy: 0.9744 - val_loss: 0.0118 - val_accuracy: 0.9540\n",
      "Epoch 41/50\n",
      "1465/1465 [==============================] - 7s 5ms/step - loss: 0.0065 - accuracy: 0.9756 - val_loss: 0.0093 - val_accuracy: 0.9627\n",
      "Epoch 42/50\n",
      "1465/1465 [==============================] - 7s 5ms/step - loss: 0.0060 - accuracy: 0.9775 - val_loss: 0.0106 - val_accuracy: 0.9627\n",
      "Epoch 43/50\n",
      "1465/1465 [==============================] - 7s 5ms/step - loss: 0.0061 - accuracy: 0.9772 - val_loss: 0.0108 - val_accuracy: 0.9580\n",
      "Epoch 44/50\n",
      "1465/1465 [==============================] - 7s 5ms/step - loss: 0.0063 - accuracy: 0.9763 - val_loss: 0.0113 - val_accuracy: 0.9580\n",
      "Epoch 45/50\n",
      "1465/1465 [==============================] - 7s 5ms/step - loss: 0.0059 - accuracy: 0.9779 - val_loss: 0.0100 - val_accuracy: 0.9627\n",
      "Epoch 46/50\n",
      "1465/1465 [==============================] - 7s 5ms/step - loss: 0.0058 - accuracy: 0.9783 - val_loss: 0.0106 - val_accuracy: 0.9600\n",
      "Epoch 47/50\n",
      "1465/1465 [==============================] - 7s 5ms/step - loss: 0.0056 - accuracy: 0.9790 - val_loss: 0.0104 - val_accuracy: 0.9607\n",
      "Epoch 48/50\n",
      "1465/1465 [==============================] - 7s 5ms/step - loss: 0.0056 - accuracy: 0.9792 - val_loss: 0.0110 - val_accuracy: 0.9607\n",
      "Epoch 49/50\n",
      "1465/1465 [==============================] - 7s 5ms/step - loss: 0.0055 - accuracy: 0.9792 - val_loss: 0.0083 - val_accuracy: 0.9700\n",
      "Epoch 50/50\n",
      "1465/1465 [==============================] - 7s 5ms/step - loss: 0.0052 - accuracy: 0.9804 - val_loss: 0.0087 - val_accuracy: 0.9693\n"
     ]
    },
    {
     "data": {
      "text/plain": [
       "<keras.callbacks.History at 0x21846bc29a0>"
      ]
     },
     "execution_count": 37,
     "metadata": {},
     "output_type": "execute_result"
    }
   ],
   "source": [
    "model.fit(scaler.transform(X_train),\n",
    "          encoder.transform(y_train.reshape(-1,1)).todense(),\n",
    "          epochs=50,\n",
    "          batch_size = 126,\n",
    "          validation_data = (scaler.transform(X_test), encoder.transform(y_test.reshape(-1,1)).todense()))"
   ]
  },
  {
   "cell_type": "markdown",
   "id": "246311f8",
   "metadata": {},
   "source": [
    "Training the model we can see that the training accuracy was 98% and validation was 96% this is much better than the tree model and an overall good result."
   ]
  },
  {
   "cell_type": "markdown",
   "id": "459647d3",
   "metadata": {},
   "source": [
    "### Deep Learning Model Performance on the Holdout set"
   ]
  },
  {
   "cell_type": "code",
   "execution_count": 38,
   "id": "09487d65",
   "metadata": {},
   "outputs": [
    {
     "name": "stdout",
     "output_type": "stream",
     "text": [
      "42/42 [==============================] - 0s 2ms/step\n",
      "Accuracy score 0.8393124065769806\n"
     ]
    }
   ],
   "source": [
    "print(\"Accuracy score\", sklearn.metrics.accuracy_score(tdf['label'],model.predict(scaler.transform(tdf.drop('label',axis=1).values)).argmax(1)))"
   ]
  },
  {
   "cell_type": "markdown",
   "id": "fb389d14",
   "metadata": {},
   "source": [
    "The models accuracy is not what it was during training and suggests an overfit. The model may benefit from different layer types or less nodes."
   ]
  },
  {
   "cell_type": "code",
   "execution_count": 39,
   "id": "691fbac7",
   "metadata": {
    "scrolled": true
   },
   "outputs": [
    {
     "name": "stdout",
     "output_type": "stream",
     "text": [
      "42/42 [==============================] - 0s 1ms/step\n",
      "           Precision    Recall   F Score  Support\n",
      "australia   0.841463  0.741935  0.788571     93.0\n",
      "canada      0.766990  0.774510  0.770732    102.0\n",
      "england     0.793651  0.836120  0.814332    299.0\n",
      "indian      0.872093  0.824176  0.847458     91.0\n",
      "other       0.833333  0.833333  0.833333    120.0\n",
      "us          0.870253  0.868878  0.869565    633.0\n"
     ]
    }
   ],
   "source": [
    "Scores = pd.DataFrame(data = np.array(score(tdf.label,model.predict(scaler.transform(tdf.drop('label',axis=1).values)).argmax(1))).T\n",
    "             ,index = le.classes_,\n",
    "             columns = ['Precision','Recall','F Score','Support'])\n",
    "print(Scores)"
   ]
  },
  {
   "cell_type": "markdown",
   "id": "d217a0fc",
   "metadata": {},
   "source": [
    "The above table shows that there is a noticeable improvement over a the ML model."
   ]
  },
  {
   "cell_type": "code",
   "execution_count": 40,
   "id": "63c1b17e",
   "metadata": {
    "scrolled": true
   },
   "outputs": [
    {
     "name": "stdout",
     "output_type": "stream",
     "text": [
      "42/42 [==============================] - 0s 1ms/step\n"
     ]
    },
    {
     "data": {
      "image/png": "[encoded data removed]",
      "text/plain": [
       "<Figure size 640x480 with 2 Axes>"
      ]
     },
     "metadata": {},
     "output_type": "display_data"
    }
   ],
   "source": [
    "ConfusionMatrixDisplay.from_predictions(tdf.label.values,model.predict(scaler.transform(tdf.drop('label',axis=1).values)).argmax(1))\n",
    "plt.yticks(list(range(6)), le.classes_)\n",
    "plt.xticks(list(range(6)), le.classes_)\n",
    "plt.show()"
   ]
  },
  {
   "cell_type": "markdown",
   "id": "af86e0b2",
   "metadata": {},
   "source": [
    "The confusion matrix shows that most errors involve US accents."
   ]
  },
  {
   "cell_type": "code",
   "execution_count": 41,
   "id": "da690f2e",
   "metadata": {},
   "outputs": [],
   "source": [
    "model.save('DL.h5')"
   ]
  },
  {
   "cell_type": "markdown",
   "id": "aa29e646",
   "metadata": {},
   "source": [
    "Save the DL Model."
   ]
  },
  {
   "cell_type": "markdown",
   "id": "0193b5b5",
   "metadata": {},
   "source": [
    "# Conclusion\n",
    "The deep learning model produced an overall better result. The precsion, recall and F Scores all improved when using hyperopt on the cutting edge XGBoost Classifier but were still beat by the Tensorflow deep learning model. For my final project I will implement the DL model unless scaling up the Trees model improves the generalization of the model. Both models appear to be overfittnig the training data, this is hard to deal with due to the massive imbalance in the original dataset. Controlling the depth of the tree's model should have helped improve the overfitting but it ended up just reducing overall performance. There is most likely an issue with the labelling in the underlying dataset, it was not collected for the strict use of accent recognition and is user labeled with minimal pre-validation. It is possible that the 'error' in the models prediction is actually the proper accent for the sample."
   ]
  }
 ],
 "metadata": {
  "kernelspec": {
   "display_name": "Python 3 (ipykernel)",
   "language": "python",
   "name": "python3"
  },
  "language_info": {
   "codemirror_mode": {
    "name": "ipython",
    "version": 3
   },
   "file_extension": ".py",
   "mimetype": "text/x-python",
   "name": "python",
   "nbconvert_exporter": "python",
   "pygments_lexer": "ipython3",
   "version": "3.9.0"
  }
 },
 "nbformat": 4,
 "nbformat_minor": 5
}
